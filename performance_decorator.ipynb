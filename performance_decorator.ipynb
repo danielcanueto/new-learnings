{
 "cells": [
  {
   "cell_type": "code",
   "execution_count": 1,
   "id": "d14e30ab",
   "metadata": {},
   "outputs": [],
   "source": [
    "from functools import wraps\n",
    "import tracemalloc\n",
    "from time import perf_counter "
   ]
  },
  {
   "cell_type": "code",
   "execution_count": 2,
   "id": "48b92a3a",
   "metadata": {},
   "outputs": [],
   "source": [
    "\n",
    "def measure_performance(func):\n",
    "    '''Measure performance of a function'''\n",
    "\n",
    "    @wraps(func)\n",
    "    def wrapper(*args, **kwargs):\n",
    "        tracemalloc.start()\n",
    "        start_time = perf_counter()\n",
    "        func(*args, **kwargs)\n",
    "        current, peak = tracemalloc.get_traced_memory()\n",
    "        finish_time = perf_counter()\n",
    "        print(f'Function: {func.__name__}')\n",
    "        print(f'Method: {func.__doc__}')\n",
    "        print(f'Memory usage:\\t\\t {current / 10**6:.6f} MB \\n'\n",
    "              f'Peak memory usage:\\t {peak / 10**6:.6f} MB ')\n",
    "        print(f'Time elapsed is seconds: {finish_time - start_time:.6f}')\n",
    "        print(f'{\"-\"*40}')\n",
    "        tracemalloc.stop()\n",
    "    return wrapper\n",
    "\n",
    "\n",
    "@measure_performance\n",
    "def make_list1():\n",
    "    '''Range'''\n",
    "\n",
    "    my_list = list(range(100000))\n",
    "\n",
    "\n",
    "@measure_performance\n",
    "def make_list2():\n",
    "    '''List comprehension'''\n",
    "\n",
    "    my_list = [l for l in range(100000)]\n",
    "\n",
    "\n",
    "@measure_performance\n",
    "def make_list3():\n",
    "    '''Append'''\n",
    "\n",
    "    my_list = []\n",
    "    for item in range(100000):\n",
    "        my_list.append(item)\n",
    "\n",
    "\n",
    "@measure_performance\n",
    "def make_list4():\n",
    "    '''Concatenation'''\n",
    "\n",
    "    my_list = []\n",
    "    for item in range(100000):\n",
    "        my_list = my_list + [item]\n"
   ]
  },
  {
   "cell_type": "code",
   "execution_count": 3,
   "id": "86a4b409",
   "metadata": {},
   "outputs": [
    {
     "name": "stdout",
     "output_type": "stream",
     "text": [
      "Function: make_list1\n",
      "Method: Range\n",
      "Memory usage:\t\t 0.000056 MB \n",
      "Peak memory usage:\t 3.592968 MB \n",
      "Time elapsed is seconds: 0.072666\n",
      "----------------------------------------\n",
      "None\n",
      "Function: make_list2\n",
      "Method: List comprehension\n",
      "Memory usage:\t\t 0.148551 MB \n",
      "Peak memory usage:\t 3.742451 MB \n",
      "Time elapsed is seconds: 0.059895\n",
      "----------------------------------------\n",
      "None\n",
      "Function: make_list3\n",
      "Method: Append\n",
      "Memory usage:\t\t 0.148623 MB \n",
      "Peak memory usage:\t 3.742387 MB \n",
      "Time elapsed is seconds: 0.063480\n",
      "----------------------------------------\n",
      "None\n",
      "Function: make_list4\n",
      "Method: Concatenation\n",
      "Memory usage:\t\t 0.148796 MB \n",
      "Peak memory usage:\t 4.541632 MB \n",
      "Time elapsed is seconds: 15.847238\n",
      "----------------------------------------\n",
      "None\n"
     ]
    }
   ],
   "source": [
    "\n",
    "\n",
    "print(make_list1())\n",
    "print(make_list2())\n",
    "print(make_list3())\n",
    "print(make_list4())\n"
   ]
  },
  {
   "cell_type": "code",
   "execution_count": null,
   "id": "71815f75",
   "metadata": {},
   "outputs": [],
   "source": []
  }
 ],
 "metadata": {
  "kernelspec": {
   "display_name": "Python 3 (ipykernel)",
   "language": "python",
   "name": "python3"
  },
  "language_info": {
   "codemirror_mode": {
    "name": "ipython",
    "version": 3
   },
   "file_extension": ".py",
   "mimetype": "text/x-python",
   "name": "python",
   "nbconvert_exporter": "python",
   "pygments_lexer": "ipython3",
   "version": "3.9.12"
  }
 },
 "nbformat": 4,
 "nbformat_minor": 5
}
