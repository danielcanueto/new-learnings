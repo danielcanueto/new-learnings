{
 "cells": [
  {
   "cell_type": "code",
   "execution_count": 1,
   "metadata": {
    "ExecuteTime": {
     "end_time": "2021-12-23T07:42:20.184282Z",
     "start_time": "2021-12-23T07:42:20.182811Z"
    },
    "id": "ABLd8on9lFwK",
    "scrolled": true
   },
   "outputs": [],
   "source": [
    "# Note: restart runtime after this import before running the augmentations\n",
    "#!pip install -U augly\n",
    "#!brew install python3-magic"
   ]
  },
  {
   "cell_type": "code",
   "execution_count": 2,
   "metadata": {
    "ExecuteTime": {
     "end_time": "2021-12-23T07:42:33.575686Z",
     "start_time": "2021-12-23T07:42:20.186206Z"
    },
    "id": "LJeIPC67lJet"
   },
   "outputs": [
    {
     "data": {
      "text/plain": [
       "'Hello, world! How are you today?'"
      ]
     },
     "execution_count": 2,
     "metadata": {},
     "output_type": "execute_result"
    }
   ],
   "source": [
    "import augly.text as textaugs\n",
    "\n",
    "# Define input text\n",
    "input_text = \"Hello, world! How are you today?\"\n",
    "input_text"
   ]
  },
  {
   "cell_type": "code",
   "execution_count": 13,
   "metadata": {
    "ExecuteTime": {
     "end_time": "2021-12-23T07:51:58.284988Z",
     "start_time": "2021-12-23T07:51:58.259520Z"
    },
    "id": "LdGl0JxjlRXR"
   },
   "outputs": [
    {
     "name": "stdout",
     "output_type": "stream",
     "text": [
      "Hello, world! How cre you todya?\n",
      "Hello, world! HoVV are y0u today?\n",
      "Hello, world! H[]w are you today?\n",
      "Hello, w<>rld! How are yDu today?\n",
      "Hello, world! H0w @re you today?\n",
      "Hello, wor ld! How are you tod ay?\n",
      "Hello, world! How are you today?\n",
      "Hello, world! How are you today?\n",
      "ℍ𝕖𝕝𝕝𝕠, 𝕨𝕠𝕣𝕝𝕕! ℍ𝕠𝕨 𝕒𝕣𝕖 𝕪𝕠𝕦 𝕥𝕠𝕕𝕒𝕪?\n",
      "ʜᴇʟʟᴏ, ᴡᴏʀʟᴅ! ʜᴏᴡ ᴀʀᴇ ʏᴏᴜ ᴛᴏᴅᴀʏ?\n"
     ]
    }
   ],
   "source": [
    "# Now we can apply various augmentations!\n",
    "print(textaugs.simulate_typos(input_text))\n",
    "print(textaugs.replace_similar_chars(input_text))\n",
    "print(textaugs.replace_similar_chars(input_text))\n",
    "print(textaugs.replace_similar_chars(input_text))\n",
    "print(textaugs.replace_similar_chars(input_text))\n",
    "\n",
    "print(textaugs.split_words(input_text))\n",
    "print(textaugs.replace_fun_fonts(input_text))\n",
    "print(textaugs.replace_fun_fonts(input_text))\n",
    "print(textaugs.replace_fun_fonts(input_text))\n",
    "print(textaugs.replace_fun_fonts(input_text))\n"
   ]
  },
  {
   "cell_type": "code",
   "execution_count": 14,
   "metadata": {
    "ExecuteTime": {
     "end_time": "2021-12-23T07:52:44.363040Z",
     "start_time": "2021-12-23T07:52:44.359702Z"
    },
    "id": "LJeIPC67lJet"
   },
   "outputs": [
    {
     "data": {
      "text/plain": [
       "'Quiero una cajetilla de tabaco.'"
      ]
     },
     "execution_count": 14,
     "metadata": {},
     "output_type": "execute_result"
    }
   ],
   "source": [
    "\n",
    "# Define input text\n",
    "input_text = \"Quiero una cajetilla de tabaco.\"\n",
    "input_text"
   ]
  },
  {
   "cell_type": "code",
   "execution_count": 15,
   "metadata": {
    "ExecuteTime": {
     "end_time": "2021-12-23T07:52:45.208956Z",
     "start_time": "2021-12-23T07:52:45.183422Z"
    },
    "id": "LdGl0JxjlRXR"
   },
   "outputs": [
    {
     "name": "stdout",
     "output_type": "stream",
     "text": [
      "Quiero una cajetilla de tabac.\n",
      "Quie12o una cajetilla de tabaco.\n",
      "Quiero una cajetilla de ta|3aco.\n",
      "Qu|ero una cajetilla de tabaco.\n",
      "Quiero una cajetilla |)e tabaco.\n",
      "Quie ro una cajetilla de tabaco.\n",
      "Quiero una cajetilla de tabaco.\n",
      "Quiero una cajetilla de tabaco.\n",
      "𝐐𝐮𝐢𝐞𝐫𝐨 𝐮𝐧𝐚 𝐜𝐚𝐣𝐞𝐭𝐢𝐥𝐥𝐚 𝐝𝐞 𝐭𝐚𝐛𝐚𝐜𝐨.\n",
      "Quiero una cajetilla de tabaco.\n"
     ]
    }
   ],
   "source": [
    "# Now we can apply various augmentations!\n",
    "print(textaugs.simulate_typos(input_text))\n",
    "print(textaugs.replace_similar_chars(input_text))\n",
    "print(textaugs.replace_similar_chars(input_text))\n",
    "print(textaugs.replace_similar_chars(input_text))\n",
    "print(textaugs.replace_similar_chars(input_text))\n",
    "\n",
    "print(textaugs.split_words(input_text))\n",
    "print(textaugs.replace_fun_fonts(input_text))\n",
    "print(textaugs.replace_fun_fonts(input_text))\n",
    "print(textaugs.replace_fun_fonts(input_text))\n",
    "print(textaugs.replace_fun_fonts(input_text))\n"
   ]
  },
  {
   "cell_type": "code",
   "execution_count": 4,
   "metadata": {
    "ExecuteTime": {
     "end_time": "2021-12-23T07:42:33.613662Z",
     "start_time": "2021-12-23T07:42:33.605773Z"
    },
    "id": "-PklmlHolR4j"
   },
   "outputs": [
    {
     "name": "stdout",
     "output_type": "stream",
     "text": [
      "𝗛𝗲𝗹𝗹𝗼, world! How are 𝔶𝔬𝔲 today?\n"
     ]
    },
    {
     "data": {
      "text/plain": [
       "[{'name': 'replace_fun_fonts',\n",
       "  'input_type': 'string',\n",
       "  'src_length': 1,\n",
       "  'dst_length': 32,\n",
       "  'aug_p': 0.3,\n",
       "  'aug_min': 1,\n",
       "  'aug_max': 10000,\n",
       "  'granularity': 'word',\n",
       "  'vary_fonts': True,\n",
       "  'fonts_path': '/Users/danielcanueto/opt/miniconda3/lib/python3.8/site-packages/augly/assets/text/fun_fonts.json',\n",
       "  'n': 1,\n",
       "  'priority_words': None,\n",
       "  'intensity': 30.0}]"
      ]
     },
     "execution_count": 4,
     "metadata": {},
     "output_type": "execute_result"
    }
   ],
   "source": [
    "\"\"\"\n",
    "You can optionally pass in a metadata list, to which metadata about the\n",
    "augmentation will be appended including kwargs and intensity (defined based on\n",
    "the kwargs for each augmentation).\n",
    "\"\"\"\n",
    "meta = []\n",
    "print(\n",
    "    textaugs.replace_fun_fonts(\n",
    "        input_text, vary_fonts=True, granularity=\"word\", metadata=meta\n",
    "    )\n",
    ")\n",
    "meta"
   ]
  },
  {
   "cell_type": "code",
   "execution_count": 5,
   "metadata": {
    "ExecuteTime": {
     "end_time": "2021-12-23T07:42:33.622737Z",
     "start_time": "2021-12-23T07:42:33.616028Z"
    },
    "id": "_ab92YUjyM6y"
   },
   "outputs": [
    {
     "name": "stdout",
     "output_type": "stream",
     "text": [
      "Hello, wo℟ld! Hoω aℜe Ⴘou Ţoday?\n"
     ]
    },
    {
     "data": {
      "text/plain": [
       "[{'name': 'replace_similar_unicode_chars',\n",
       "  'input_type': 'string',\n",
       "  'src_length': 1,\n",
       "  'dst_length': 32,\n",
       "  'aug_char_p': 0.3,\n",
       "  'aug_word_p': 0.6,\n",
       "  'min_char': 2,\n",
       "  'aug_char_min': 1,\n",
       "  'aug_char_max': 1000,\n",
       "  'aug_word_min': 1,\n",
       "  'aug_word_max': 1000,\n",
       "  'n': 1,\n",
       "  'mapping_path': '/Users/danielcanueto/opt/miniconda3/lib/python3.8/site-packages/augly/assets/text/letter_unicode_mapping.json',\n",
       "  'priority_words': None,\n",
       "  'intensity': 18.0}]"
      ]
     },
     "execution_count": 5,
     "metadata": {},
     "output_type": "execute_result"
    }
   ],
   "source": [
    "# For all the augmentations, we have class-based definitions as well as\n",
    "# functional\n",
    "meta = []\n",
    "aug = textaugs.ReplaceSimilarUnicodeChars(aug_word_p=0.6)\n",
    "print(aug(input_text, metadata=meta))\n",
    "meta"
   ]
  },
  {
   "cell_type": "code",
   "execution_count": 6,
   "metadata": {
    "ExecuteTime": {
     "end_time": "2021-12-23T07:42:33.629592Z",
     "start_time": "2021-12-23T07:42:33.624045Z"
    },
    "colab": {
     "base_uri": "https://localhost:8080/"
    },
    "id": "9-IMYGRyzNen",
    "outputId": "eb1836f7-2e0c-4339-93df-3460529e07fd"
   },
   "outputs": [
    {
     "name": "stdout",
     "output_type": "stream",
     "text": [
      "He has two sisters, but he always wanted a brother\n"
     ]
    }
   ],
   "source": [
    "# You can evaluate the fairness of your model by swapping gender in text\n",
    "# inputs & evaluating the performance!\n",
    "gendered_text = \"She has two brothers, but she always wanted a sister\"\n",
    "aug = textaugs.SwapGenderedWords(aug_word_p=1.0)\n",
    "print(aug(gendered_text))"
   ]
  },
  {
   "cell_type": "code",
   "execution_count": 7,
   "metadata": {
    "ExecuteTime": {
     "end_time": "2021-12-23T07:42:33.636251Z",
     "start_time": "2021-12-23T07:42:33.632235Z"
    },
    "id": "P_pXLW_l7euY"
   },
   "outputs": [
    {
     "name": "stdout",
     "output_type": "stream",
     "text": [
      "[\"Hello, world! How're you today?\"]\n"
     ]
    }
   ],
   "source": [
    "aug = textaugs.Contractions(aug_p=1.0)\n",
    "print(aug(input_text))"
   ]
  }
 ],
 "metadata": {
  "colab": {
   "collapsed_sections": [],
   "name": "AugLy_text.ipynb",
   "provenance": []
  },
  "kernelspec": {
   "display_name": "Python 3",
   "language": "python",
   "name": "python3"
  },
  "language_info": {
   "codemirror_mode": {
    "name": "ipython",
    "version": 3
   },
   "file_extension": ".py",
   "mimetype": "text/x-python",
   "name": "python",
   "nbconvert_exporter": "python",
   "pygments_lexer": "ipython3",
   "version": "3.8.5"
  },
  "toc": {
   "base_numbering": 1,
   "nav_menu": {},
   "number_sections": true,
   "sideBar": true,
   "skip_h1_title": false,
   "title_cell": "Table of Contents",
   "title_sidebar": "Contents",
   "toc_cell": false,
   "toc_position": {},
   "toc_section_display": true,
   "toc_window_display": false
  }
 },
 "nbformat": 4,
 "nbformat_minor": 1
}
